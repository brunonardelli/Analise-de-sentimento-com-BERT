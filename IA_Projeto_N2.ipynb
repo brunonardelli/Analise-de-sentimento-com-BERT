{
  "nbformat": 4,
  "nbformat_minor": 0,
  "metadata": {
    "kernelspec": {
      "display_name": "Python 3",
      "language": "python",
      "name": "python3"
    },
    "language_info": {
      "codemirror_mode": {
        "name": "ipython",
        "version": 3
      },
      "file_extension": ".py",
      "mimetype": "text/x-python",
      "name": "python",
      "nbconvert_exporter": "python",
      "pygments_lexer": "ipython3",
      "version": "3.7.4"
    },
    "colab": {
      "provenance": [],
      "include_colab_link": true
    }
  },
  "cells": [
    {
      "cell_type": "markdown",
      "metadata": {
        "id": "view-in-github",
        "colab_type": "text"
      },
      "source": [
        "<a href=\"https://colab.research.google.com/github/brunonardelli/Analise-de-sentimento-com-BERT/blob/main/IA_Projeto_N2.ipynb\" target=\"_parent\"><img src=\"https://colab.research.google.com/assets/colab-badge.svg\" alt=\"Open In Colab\"/></a>"
      ]
    },
    {
      "cell_type": "markdown",
      "metadata": {
        "id": "40b90843"
      },
      "source": [
        "<img src=\"http://meusite.mackenzie.br/rogerio/mackenzie_logo/UPM.2_horizontal_vermelho.jpg\"  width=300, align=\"right\">\n",
        "<br>\n",
        "<br>\n",
        "<br>\n",
        "<br>\n",
        "<br>\n",
        "\n",
        "# ***Análise de Sentimentos de Publicações em Redes Sociais***\n",
        "---"
      ]
    },
    {
      "cell_type": "markdown",
      "source": [
        "*Siga esse template para entrega do seu artigo/projeto. O código deste notebook precisa ser 100% executável.*\n",
        "\n",
        "Neste projeto você vai explorar algumas tecnologias que são o estado da arte da IA e do Aprendizado de Máquina. Seu grupo deve escolher uma dentre as seguintes tecnologias ou conceitos para explorar:\n",
        "\n",
        "* **Tools**\n",
        "  * BERT, tradução ou sumarização de texto\n",
        "  * Yolo e OpenCV, para detecção de objetos em Imagens\n",
        "  * Yolo e OpenCV, para detecção de objetos Vídeos\n",
        "\n",
        "* **Conceitos** \n",
        "  * Generative Adversarial Neural Networks\n",
        "  * Transformers (outras aplicações que não NLP, como o BERT)\n",
        "  * Sentiment Analysis (em Português)\n",
        "  * Anomaly Detection \n",
        "\n",
        "Vocês devem produzir um *artigo*, a exemplo de artigos do *Medium* ou outros canais semelhantes, para que seu grupo ou leitores do artigo tenham aqui um ponto de partida para uso da tecnologia/conceito escolhido. \n",
        "\n",
        "<br>\n",
        "\n",
        "<br>\n",
        "\n",
        "**ATENÇÃO**\n",
        "\n",
        "* Podem haver apenas 3 trabalhos para um mesmo tema. \n",
        "* Cadastre o nome completo de 1 aluno do grupo para selecionar o tema aqui [7G](https://docs.google.com/spreadsheets/d/1P4Pw7dXs3d_QGKiT6AmmZo3i4wOvXHhuF8cYWSSidGE/edit?usp=sharing) ou [7N](https://docs.google.com/spreadsheets/d/1QSstslQFsP2ecMlrYbwfQXcP-3stcdYJmb22zvu8ASw/edit?usp=sharing). Respeite a escolha dos Colegas!"
      ],
      "metadata": {
        "id": "Ikv-pBzr9bNu"
      }
    },
    {
      "cell_type": "code",
      "metadata": {
        "id": "rYx9D4GZA5o9",
        "cellView": "form"
      },
      "source": [
        "#@title **Identificação do Grupo**\n",
        "\n",
        "#@markdown Integrantes do Grupo, nome completo em orgem alfabética (*informe \\<TIA\\>,\\<nome\\>*)\n",
        "Aluno1 = '41932110, Breno Ferreira Pinho' #@param {type:\"string\"} \n",
        "Aluno2 = '41933613, Bruno Nardelii Santiago' #@param {type:\"string\"}\n",
        "Aluno3 = '41911180, Isabela da Costa Pinheiro Albineli' #@param {type:\"string\"}\n",
        "\n"
      ],
      "execution_count": null,
      "outputs": []
    },
    {
      "cell_type": "markdown",
      "source": [
        "# **Resumo (*Abstract*)**\n",
        "\n",
        ">A Análise de Sentimento vem sendo explorada em diferentes tipos de pesquisas, tendo como principal intuito extrair opiniões dos usuários sobre os mais diversos assuntos, possibilitando que informações significativas sejam obtidas. Nesse projeto, temos o objetivo de prever o sentimento (positivo ou negativo) de um comentário no IMDb (Internet Move Database) que é uma das maiores base de dados online sobre cinema e tudo o que envolve a indústria do entretenimento, podendo ser um diferencial para as organizações que desejam tomar melhores decisões, elaborar melhores estratégias de marketing ou obter feedback sobre determinado produto ou evento. Para tal, faremos uso do poderoso BERT que é um modelo de linguagem baseado no Transformer.\n",
        "\n",
        "Palavras-chave: PLN. Mineração de Dados. Deep Learning. Transformer. BERT.\n",
        "\n",
        ">Sentiment Analysis has been explored in different types of research, with the main purpose of extracting opinions from users about the most diverse subjects, allowing significant information to be obtained. In this project, our goal is to predict the sentiment (positive or negative) of a comment on IMDb (Internet Move Database), which is one of the largest online databases about movies and everything that involves the entertainment industry, and can be a differential for organizations that want to make better decisions, develop better marketing strategies or get feedback about a product or event. To do this, we will make use of the powerful BERT, which is a language model based on Transformer. \n",
        "\n",
        "Keywords: NLP. Data Mining. Deep Learning. Transformer. BERT."
      ],
      "metadata": {
        "id": "JlCIc2YooBW7"
      }
    },
    {
      "cell_type": "markdown",
      "metadata": {
        "id": "A4-f8AtfKAn2"
      },
      "source": [
        "# **Referencial Teórico**\n",
        "\n",
        "----\n",
        " Apagar esse paragrafo depois de concluir\n",
        "\n",
        "Apresente os principais conceitos da tecnologia ou princípio explorado no seu trabalho (o que é? como funciona? Suas aplicações). Não deixe de indicar referências e incluir ilustrações/esquemas quando necessário. Empregue 2-3 páginas. \n",
        "\n",
        "-----\n",
        "\n",
        "Segundo Liu (2010), a análise de sentimento é o estudo de opiniões, sentimentos e emoções expressas em textos, existindo muitas tarefas relacionadas nessa área, como a extração de elementos do texto relacionados à opinião, a classificação da opinião quanto ao seu caráter positivo ou negativo e a comparação de sentenças quanto a suas opiniões, entre outras tarefas. \n",
        "\n",
        "Segundo Pang e Lee (2008), é importante destacar que a Análise de Sentimento trata problemas de classificação e é utilizada para classificar textos de acordo com a sua polaridade. Mesmo que uma frase não denote explicitamente um sentimento, podendo em alguns casos apenas descrever um fato, esse, no entanto, pode ser classificado como positivo ou negativo.\n",
        "\n",
        "Segundo Wilson et al. (2005), alguns trabalhos focam na identificação de opiniões, isto é, se o objeto em análise contém opiniões ou simplesmente fatos, já outros trabalhos consideram apenas a classificação da polaridade das opiniões encontradas em fóruns, blogs de discussão e sites de comércio eletrônico.\n",
        "Outros, ainda, traduzem a atividade de classificação de sentimentos, como, por exemplo, a verificação da detecção de subjetividade, a identificação de pontos de vista, a sumarização de opiniões e em sistemas de questionários.\n",
        "\n",
        "Liu (2012) reporta a análise de sentimentos como um conjunto de termos, sendo eles: Objetos, Componentes, Opinião, Polaridade. E define o objeto como alvo de análise, podendo se referir a um produto, serviço, pessoa ou entidade. O componente é definido com as características do objeto, isto é, a opinião dada sobre um determinado produto, mas, ao mesmo tempo, uma característica dele. A opinião é a expressão, atitude ou emoção emitida por alguma entidade; e, por fim, a polaridade, que determina se a opinião é positiva, negativa ou neutra.\n",
        "\n",
        "Outra definição feita por Liu (2012) é que a Análise de Sentimentos pode ser tratada em dois níveis distintos e com objetivos diferentes: \n",
        "• Classificação em Nível de Documento: a opinião está em todo texto ou sentença em questão. A opinião é dada como positiva, negativa ou neutra, observando o texto ou sentença por completo. \n",
        "• Classificação Baseada em Aspectos: ao invés de classificar o texto como um todo, cada aspecto é classificado. \n",
        "\n",
        "Na classificação em nível de documento, o resultado da opinião é obtido através da revisão do texto completo. Entretanto, informações podem ser perdidas, uma vez que, dentro de um texto, existem tanto informações positivas quanto negativas. Diferente da classificação baseada em aspectos, onde nenhuma opinião é descartada, considerando todas mostradas no texto. \n",
        "\n",
        "Portanto, é necessário verificar anteriormente o tipo de classificação a ser usada,  para que o resultado desejável não seja diferente para o usuário final. \n",
        "Por outro lado, nem sempre é possível classificar as sentenças, sendo importante primeiramente separar as sentenças em classificáveis e não classificáveis. Segundo (LIU, 2012), existem definições usadas para esses dois tipos de sentenças: \n",
        "• Sentença Objetiva: não possui a opinião do autor, mostrando apenas fatos sobre o objeto em questão. \n",
        "• Sentença Subjetiva: apresenta uma opinião ou crença do autor a respeito de determinado objeto. \n",
        "\n",
        "\n"
      ]
    },
    {
      "cell_type": "markdown",
      "source": [
        "# **Conceitos Chave**\n",
        "\n",
        "Resuma aqui 3-5 palavras chave da tecnologia ou conceito explorado. Por exemplo, se seu trabalho explora-se o conceito de *Deep Learning*, os seguintes iten poderiam ter tratados aqui:\n",
        "\n",
        "## 1. *Processamento de Linguagem Natural* \n",
        "O Processamento de Linguagem Natural tem como seu principal propósito interpretar e manipular a linguagem dos humanos, possibilitando a comunicação homem-máquina. Atualmente essa tecnologia está em constante avanço pela sua importância no mercado corporativo, sendo capaz de extrair grandes volumes de dados textuais contendo tendências importantes de feedback, com esses dados as empresas conseguem analisar o mercado para satisfazer seu público-alvo.\n",
        "\n",
        "## 2. *Mineração de Dados* \n",
        "O processo de Mineração de Dados pode ser resumido em cinco passos: Definição do Problema, Seleção de Dados e Pré-Processamento, Coleta dos Dados, Interpretação e Validação e por fim Conhecimento.\n",
        "\n",
        "## 3. *Deep Learning* \n",
        "O deep learning ou aprendizagem profunda baseia-se no machine learning para, a partir de uma grande quantidade de dados e após inúmeras camadas de processamento com algoritmos, conseguir que um computador aprenda por si mesmo e execute tarefas semelhantes às dos seres humanos, tais como a identificação de imagens, o reconhecimento de voz ou a realização de predições, de forma progressiva.\n",
        "\n",
        "## 4. *Transformer* \n",
        "Transformer é hoje em dia a arquitetura mais avançada em questão de processamento de linguagem, com seu modelo de transdução que pode calcular iterativamente cada parte dos dados de entrada.\n",
        "\n",
        "## 5. *BERT* \n",
        "BERT (Bidirectional Encoder Representations from Transformers) é o algoritmo de aprendizado profundo. Ele é essencialmente o encoder do Transformer, e é muito adequado em casos onde você já tem a mensagem inteira para processar.\n"
      ],
      "metadata": {
        "id": "69Ed6lD7vmi7"
      }
    },
    {
      "cell_type": "markdown",
      "source": [
        "# **Exemplo de Aplicação**\n",
        "\n",
        "Descreva aqui um pequeno problema que você resolverá aplicando a tecnologia/conceito envolvido. O código/solução não precisa ser original, mas não deixe de dar as referências dessa solução. Lembre-se que o notebook precisa ser 100% executável e, portanto, você não deve empregar arquivos locais da sua máquina.\n",
        "\n",
        "Empregue aqui um ou dois parágrafos. "
      ],
      "metadata": {
        "id": "4wfTEdMMxqFK"
      }
    },
    {
      "cell_type": "markdown",
      "source": [
        "# **Exemplo de Código**\n",
        "\n",
        "Coloque aqui o código de solução. Você deve explicar em linhas gerais o código. Para isso você pode quebrar o código em algumas partes e incluir células de texto explicativos. Não empregue para isso comentários no corpo do código.\n",
        "\n",
        "Tente empregar exemplos que não sejam muito complexos e que busquem dar a você ou ao leitor um ponto de partida para o uso da tecnologia/conceito explorado."
      ],
      "metadata": {
        "id": "FyFHbT8vygVp"
      }
    },
    {
      "cell_type": "code",
      "source": [
        "# from google.colab import files\n",
        "\n",
        "# uploaded = files.upload()\n",
        "\n",
        "# for fn in uploaded.keys():\n",
        "#   print('User uploaded file \"{name}\" with length {length} bytes'.format(name=fn, length=len(uploaded[fn])))\n",
        "\n",
        "# !mkdir -p ~/.kaggle/ && mv kaggle.json ~/.kaggle/ && chmod 600 ~/.kaggle/kaggle.jason"
      ],
      "metadata": {
        "colab": {
          "base_uri": "https://localhost:8080/",
          "height": 110
        },
        "id": "VisBIQv7bZ-P",
        "outputId": "0761ab41-da92-4c0b-eaac-209814ef9b37"
      },
      "execution_count": null,
      "outputs": [
        {
          "output_type": "display_data",
          "data": {
            "text/plain": [
              "<IPython.core.display.HTML object>"
            ],
            "text/html": [
              "\n",
              "     <input type=\"file\" id=\"files-095d7542-6cb2-4c43-918a-147fd0c56c2c\" name=\"files[]\" multiple disabled\n",
              "        style=\"border:none\" />\n",
              "     <output id=\"result-095d7542-6cb2-4c43-918a-147fd0c56c2c\">\n",
              "      Upload widget is only available when the cell has been executed in the\n",
              "      current browser session. Please rerun this cell to enable.\n",
              "      </output>\n",
              "      <script>// Copyright 2017 Google LLC\n",
              "//\n",
              "// Licensed under the Apache License, Version 2.0 (the \"License\");\n",
              "// you may not use this file except in compliance with the License.\n",
              "// You may obtain a copy of the License at\n",
              "//\n",
              "//      http://www.apache.org/licenses/LICENSE-2.0\n",
              "//\n",
              "// Unless required by applicable law or agreed to in writing, software\n",
              "// distributed under the License is distributed on an \"AS IS\" BASIS,\n",
              "// WITHOUT WARRANTIES OR CONDITIONS OF ANY KIND, either express or implied.\n",
              "// See the License for the specific language governing permissions and\n",
              "// limitations under the License.\n",
              "\n",
              "/**\n",
              " * @fileoverview Helpers for google.colab Python module.\n",
              " */\n",
              "(function(scope) {\n",
              "function span(text, styleAttributes = {}) {\n",
              "  const element = document.createElement('span');\n",
              "  element.textContent = text;\n",
              "  for (const key of Object.keys(styleAttributes)) {\n",
              "    element.style[key] = styleAttributes[key];\n",
              "  }\n",
              "  return element;\n",
              "}\n",
              "\n",
              "// Max number of bytes which will be uploaded at a time.\n",
              "const MAX_PAYLOAD_SIZE = 100 * 1024;\n",
              "\n",
              "function _uploadFiles(inputId, outputId) {\n",
              "  const steps = uploadFilesStep(inputId, outputId);\n",
              "  const outputElement = document.getElementById(outputId);\n",
              "  // Cache steps on the outputElement to make it available for the next call\n",
              "  // to uploadFilesContinue from Python.\n",
              "  outputElement.steps = steps;\n",
              "\n",
              "  return _uploadFilesContinue(outputId);\n",
              "}\n",
              "\n",
              "// This is roughly an async generator (not supported in the browser yet),\n",
              "// where there are multiple asynchronous steps and the Python side is going\n",
              "// to poll for completion of each step.\n",
              "// This uses a Promise to block the python side on completion of each step,\n",
              "// then passes the result of the previous step as the input to the next step.\n",
              "function _uploadFilesContinue(outputId) {\n",
              "  const outputElement = document.getElementById(outputId);\n",
              "  const steps = outputElement.steps;\n",
              "\n",
              "  const next = steps.next(outputElement.lastPromiseValue);\n",
              "  return Promise.resolve(next.value.promise).then((value) => {\n",
              "    // Cache the last promise value to make it available to the next\n",
              "    // step of the generator.\n",
              "    outputElement.lastPromiseValue = value;\n",
              "    return next.value.response;\n",
              "  });\n",
              "}\n",
              "\n",
              "/**\n",
              " * Generator function which is called between each async step of the upload\n",
              " * process.\n",
              " * @param {string} inputId Element ID of the input file picker element.\n",
              " * @param {string} outputId Element ID of the output display.\n",
              " * @return {!Iterable<!Object>} Iterable of next steps.\n",
              " */\n",
              "function* uploadFilesStep(inputId, outputId) {\n",
              "  const inputElement = document.getElementById(inputId);\n",
              "  inputElement.disabled = false;\n",
              "\n",
              "  const outputElement = document.getElementById(outputId);\n",
              "  outputElement.innerHTML = '';\n",
              "\n",
              "  const pickedPromise = new Promise((resolve) => {\n",
              "    inputElement.addEventListener('change', (e) => {\n",
              "      resolve(e.target.files);\n",
              "    });\n",
              "  });\n",
              "\n",
              "  const cancel = document.createElement('button');\n",
              "  inputElement.parentElement.appendChild(cancel);\n",
              "  cancel.textContent = 'Cancel upload';\n",
              "  const cancelPromise = new Promise((resolve) => {\n",
              "    cancel.onclick = () => {\n",
              "      resolve(null);\n",
              "    };\n",
              "  });\n",
              "\n",
              "  // Wait for the user to pick the files.\n",
              "  const files = yield {\n",
              "    promise: Promise.race([pickedPromise, cancelPromise]),\n",
              "    response: {\n",
              "      action: 'starting',\n",
              "    }\n",
              "  };\n",
              "\n",
              "  cancel.remove();\n",
              "\n",
              "  // Disable the input element since further picks are not allowed.\n",
              "  inputElement.disabled = true;\n",
              "\n",
              "  if (!files) {\n",
              "    return {\n",
              "      response: {\n",
              "        action: 'complete',\n",
              "      }\n",
              "    };\n",
              "  }\n",
              "\n",
              "  for (const file of files) {\n",
              "    const li = document.createElement('li');\n",
              "    li.append(span(file.name, {fontWeight: 'bold'}));\n",
              "    li.append(span(\n",
              "        `(${file.type || 'n/a'}) - ${file.size} bytes, ` +\n",
              "        `last modified: ${\n",
              "            file.lastModifiedDate ? file.lastModifiedDate.toLocaleDateString() :\n",
              "                                    'n/a'} - `));\n",
              "    const percent = span('0% done');\n",
              "    li.appendChild(percent);\n",
              "\n",
              "    outputElement.appendChild(li);\n",
              "\n",
              "    const fileDataPromise = new Promise((resolve) => {\n",
              "      const reader = new FileReader();\n",
              "      reader.onload = (e) => {\n",
              "        resolve(e.target.result);\n",
              "      };\n",
              "      reader.readAsArrayBuffer(file);\n",
              "    });\n",
              "    // Wait for the data to be ready.\n",
              "    let fileData = yield {\n",
              "      promise: fileDataPromise,\n",
              "      response: {\n",
              "        action: 'continue',\n",
              "      }\n",
              "    };\n",
              "\n",
              "    // Use a chunked sending to avoid message size limits. See b/62115660.\n",
              "    let position = 0;\n",
              "    do {\n",
              "      const length = Math.min(fileData.byteLength - position, MAX_PAYLOAD_SIZE);\n",
              "      const chunk = new Uint8Array(fileData, position, length);\n",
              "      position += length;\n",
              "\n",
              "      const base64 = btoa(String.fromCharCode.apply(null, chunk));\n",
              "      yield {\n",
              "        response: {\n",
              "          action: 'append',\n",
              "          file: file.name,\n",
              "          data: base64,\n",
              "        },\n",
              "      };\n",
              "\n",
              "      let percentDone = fileData.byteLength === 0 ?\n",
              "          100 :\n",
              "          Math.round((position / fileData.byteLength) * 100);\n",
              "      percent.textContent = `${percentDone}% done`;\n",
              "\n",
              "    } while (position < fileData.byteLength);\n",
              "  }\n",
              "\n",
              "  // All done.\n",
              "  yield {\n",
              "    response: {\n",
              "      action: 'complete',\n",
              "    }\n",
              "  };\n",
              "}\n",
              "\n",
              "scope.google = scope.google || {};\n",
              "scope.google.colab = scope.google.colab || {};\n",
              "scope.google.colab._files = {\n",
              "  _uploadFiles,\n",
              "  _uploadFilesContinue,\n",
              "};\n",
              "})(self);\n",
              "</script> "
            ]
          },
          "metadata": {}
        },
        {
          "output_type": "stream",
          "name": "stdout",
          "text": [
            "Saving kaggle.json to kaggle.json\n",
            "User uploaded file \"kaggle.json\" with length 70 bytes\n",
            "chmod: cannot access '/root/.kaggle/kaggle.jason': No such file or directory\n"
          ]
        }
      ]
    },
    {
      "cell_type": "code",
      "source": [
        "# !kaggle datasets download -d luisfredgs/imdb-ptbr"
      ],
      "metadata": {
        "colab": {
          "base_uri": "https://localhost:8080/"
        },
        "id": "44QefeLTdRSx",
        "outputId": "52c69f07-67f8-4239-c3b4-6c6b604e895c"
      },
      "execution_count": null,
      "outputs": [
        {
          "output_type": "stream",
          "name": "stdout",
          "text": [
            "Warning: Your Kaggle API key is readable by other users on this system! To fix this, you can run 'chmod 600 /root/.kaggle/kaggle.json'\n",
            "Downloading imdb-ptbr.zip to /content\n",
            " 89% 43.0M/48.4M [00:00<00:00, 222MB/s]\n",
            "100% 48.4M/48.4M [00:00<00:00, 226MB/s]\n"
          ]
        }
      ]
    },
    {
      "cell_type": "code",
      "source": [
        "# from zipfile import ZipFile\n",
        "\n",
        "# file_name = \"/content/imdb-ptbr.zip\"\n",
        "\n",
        "# with ZipFile(file_name, 'r') as zip:\n",
        "#   zip.extractall()\n",
        "#   print('Done')"
      ],
      "metadata": {
        "colab": {
          "base_uri": "https://localhost:8080/"
        },
        "id": "04enNMOedrLD",
        "outputId": "2a4d0514-0f15-40a5-fe3f-93ecf077896f"
      },
      "execution_count": null,
      "outputs": [
        {
          "output_type": "stream",
          "name": "stdout",
          "text": [
            "Done\n"
          ]
        }
      ]
    },
    {
      "cell_type": "code",
      "source": [
        "from google.colab import drive\n",
        "\n",
        "drive.mount('/content/drive')"
      ],
      "metadata": {
        "id": "7wJs8fdijqO9"
      },
      "execution_count": null,
      "outputs": []
    },
    {
      "cell_type": "code",
      "source": [
        "import pandas as pd\n",
        "# Seus Códigos aqui intercalados de células de texto comentadas\n",
        "data = pd.read_csv('imdb-reviews-pt-br.csv', index_col=0) \n",
        "data.head(1)"
      ],
      "metadata": {
        "id": "47WSkdIDxpjM"
      },
      "execution_count": null,
      "outputs": []
    },
    {
      "cell_type": "code",
      "source": [
        "from google.colab import drive\n",
        "drive.mount('/content/drive')"
      ],
      "metadata": {
        "id": "Va7ptdHqkD9r"
      },
      "execution_count": null,
      "outputs": []
    },
    {
      "cell_type": "markdown",
      "source": [
        "# **Uma ideia de Projeto de Aplicação**\n",
        "\n",
        "Apresente aqui uma ideia de projeto original em que a tecnologia/conceito explorada poderia ser empregada. Busque apresentar um problema relevante e atual. Você não precisa implementar mas, se quiser, pode empregar o Exemplo de Aplicação anterior para isso! Neste caso basta fazer um protótipo ou uma prova de conceito. Empregue aqui no máximo 1 página.\n"
      ],
      "metadata": {
        "id": "vuisqDoJ0oTB"
      }
    },
    {
      "cell_type": "markdown",
      "source": [
        "# **Referências**\n",
        "\n",
        "Este é um item obrigatório."
      ],
      "metadata": {
        "id": "7LtXrRFr4hg3"
      }
    },
    {
      "cell_type": "markdown",
      "source": [
        "# **Vídeo, GitHub e Publicação (opcional)** \n",
        "\n",
        "Produza um vídeo explicativo apresentando o seu trabalho. Salve em uma GitHub público seu notebook e o código completo (sem o texto intercalado) do seu projeto. Se bem avaliado, podemos publicar seu texto no Medium. "
      ],
      "metadata": {
        "id": "ZGpU-v6CnTaG"
      }
    },
    {
      "cell_type": "markdown",
      "metadata": {
        "id": "9kwoGZeSLRsX"
      },
      "source": [
        "# **Conclusão** \n",
        "\n",
        "Apresente a conclusão do seu estudo. Indique limitações da tecnologia/conceitos, novos avanços e compare com tecnologias/conceitos concorrentes.\n",
        "\n"
      ]
    },
    {
      "cell_type": "markdown",
      "metadata": {
        "id": "8crUBC3IQ3U_"
      },
      "source": [
        "---"
      ]
    },
    {
      "cell_type": "code",
      "metadata": {
        "id": "BluFtfHuCGzm",
        "cellView": "form"
      },
      "source": [
        "#@title **Avaliação**\n",
        "Referencial_Teorico = 10 #@param {type:\"slider\", min:0, max:10, step:1}\n",
        "\n",
        "Conceitos_Chave = 9 #@param {type:\"slider\", min:0, max:10, step:1}\n",
        "\n",
        "Exemplo_Aplicacao = 6 #@param {type:\"slider\", min:0, max:10, step:1}\n",
        "\n",
        "Ideia_Projeto = 7 #@param {type:\"slider\", min:0, max:10, step:1}\n",
        "\n",
        "Conclusao = 7 #@param {type:\"slider\", min:0, max:10, step:1}\n",
        "\n",
        "\n",
        "\n",
        "\n",
        "\n",
        "\n"
      ],
      "execution_count": null,
      "outputs": []
    },
    {
      "cell_type": "code",
      "metadata": {
        "id": "2Gqw7hUZHyle"
      },
      "source": [
        "#@title **Nota Final**\n",
        "nota = Referencial_Teorico + Conceitos_Chave + 2*Exemplo_Aplicacao + 2*Ideia_Projeto + Conclusao\n",
        "\n",
        "nota = nota / 7\n",
        "\n",
        "print(f'Nota final do trabalho {nota :.1f}')\n",
        "\n",
        "import numpy as np\n",
        "import pandas as pd\n",
        "\n",
        "alunos = pd.DataFrame()\n",
        "\n",
        "lista_tia = []\n",
        "lista_nome = []\n",
        "\n",
        "for i in range(1,4):\n",
        "  exec(\"if Aluno\" + str(i) + \" !='None':  lista = Aluno\" + str(i) + \".split(','); lista_tia.append(lista[0]); lista_nome.append(lista[1].upper())\")\n",
        "\n",
        "alunos['tia'] = lista_tia\n",
        "alunos['nome'] = lista_nome\n",
        "alunos['nota'] = np.round(nota,1)\n",
        "print()\n",
        "display(alunos)"
      ],
      "execution_count": null,
      "outputs": []
    }
  ]
}